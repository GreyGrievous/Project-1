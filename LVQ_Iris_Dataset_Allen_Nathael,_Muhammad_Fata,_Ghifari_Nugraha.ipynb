{
  "nbformat": 4,
  "nbformat_minor": 0,
  "metadata": {
    "colab": {
      "provenance": [],
      "collapsed_sections": [],
      "mount_file_id": "11m95i160lTXeD-Vx_PO97SBaAu5v1gwY",
      "authorship_tag": "ABX9TyPRUkR+PnQGc6srRSIqAyxo",
      "include_colab_link": true
    },
    "kernelspec": {
      "name": "python3",
      "display_name": "Python 3"
    },
    "language_info": {
      "name": "python"
    }
  },
  "cells": [
    {
      "cell_type": "markdown",
      "metadata": {
        "id": "view-in-github",
        "colab_type": "text"
      },
      "source": [
        "<a href=\"https://colab.research.google.com/github/GreyGrievous/Project-1/blob/main/LVQ_Iris_Dataset_Allen_Nathael%2C_Muhammad_Fata%2C_Ghifari_Nugraha.ipynb\" target=\"_parent\"><img src=\"https://colab.research.google.com/assets/colab-badge.svg\" alt=\"Open In Colab\"/></a>"
      ]
    },
    {
      "cell_type": "code",
      "execution_count": 1,
      "metadata": {
        "id": "fy5nXttdxF-Q"
      },
      "outputs": [],
      "source": [
        "import numpy as np\n",
        "import pandas as pd"
      ]
    },
    {
      "cell_type": "markdown",
      "source": [
        "# LVQ Fit Function"
      ],
      "metadata": {
        "id": "dV2l6Rnj7113"
      }
    },
    {
      "cell_type": "code",
      "source": [
        "def lvq_fit(train, target, learn_rate, b, max_epoch):\n",
        "  label, train_idx = np.unique(target, return_index=True)\n",
        "  weight = train[train_idx].astype(np.float64)\n",
        "  train = np.array([e for i, e in enumerate(zip(train, target)) if i not in train_idx])\n",
        "  train, target = train[:,0], train[:,1]\n",
        "  epoch = 0\n",
        "\n",
        "  while epoch < max_epoch:\n",
        "    for i, x in enumerate(train):\n",
        "      distance = [sum((w-x)**2)for w in weight]     # Euclidian distance equation\n",
        "      min = np.argmin(distance)                     # To get minimum distance of j\n",
        "      sign = 1 if target[1] == label[min] else -1   # Try to match data with target\n",
        "      weight[min] += sign * learn_rate * (x - weight[min]) # When matched, do Step 4\n",
        "    \n",
        "    learn_rate *= b\n",
        "    epoch += 1\n",
        "\n",
        "  return weight, label"
      ],
      "metadata": {
        "id": "XTZTAU1VxI2g"
      },
      "execution_count": 2,
      "outputs": []
    },
    {
      "cell_type": "markdown",
      "source": [
        "# LVQ Predict Function"
      ],
      "metadata": {
        "id": "SRhQtbaR8J6j"
      }
    },
    {
      "cell_type": "code",
      "source": [
        "def lvq_predict(x, weight):\n",
        "  weight, label = weight\n",
        "  d = [sum((w-x)**2) for w in weight] #Calculate Euclidian distance for every training input x\n",
        "\n",
        "  return label[np.argmin(d)]"
      ],
      "metadata": {
        "id": "62GNixVr76yi"
      },
      "execution_count": 3,
      "outputs": []
    },
    {
      "cell_type": "markdown",
      "source": [
        "# Set the Target in accordance to the Iris Dataset"
      ],
      "metadata": {
        "id": "FnPmdq2T8ird"
      }
    },
    {
      "cell_type": "code",
      "source": [
        "columnstrain = [\"SepalLengthCm\", \"SepalWidthCm\", \"PetalLengthCm\", \"PetalWidthCm\"]\n",
        "train = pd.read_csv(\"./Iris.csv\", usecols=columnstrain)\n",
        "tra = train.to_numpy()\n",
        "tra = np.delete(tra, 25, axis=0)\n",
        "tra = np.delete(tra, 38, axis=0)\n",
        "tra = np.delete(tra, 98, axis=0)\n",
        "tra = np.delete(tra, 50, axis=0)\n",
        "tra = np.delete(tra, 102, axis=0)\n",
        "tra = np.delete(tra, 121, axis=0)\n",
        "tra"
      ],
      "metadata": {
        "colab": {
          "base_uri": "https://localhost:8080/"
        },
        "id": "-HlkRbHecyuU",
        "outputId": "08020485-2f7a-4e33-8d9c-7f3f3baed286"
      },
      "execution_count": 4,
      "outputs": [
        {
          "output_type": "execute_result",
          "data": {
            "text/plain": [
              "array([[5.1, 3.5, 1.4, 0.2],\n",
              "       [4.9, 3. , 1.4, 0.2],\n",
              "       [4.7, 3.2, 1.3, 0.2],\n",
              "       [4.6, 3.1, 1.5, 0.2],\n",
              "       [5. , 3.6, 1.4, 0.2],\n",
              "       [5.4, 3.9, 1.7, 0.4],\n",
              "       [4.6, 3.4, 1.4, 0.3],\n",
              "       [5. , 3.4, 1.5, 0.2],\n",
              "       [4.4, 2.9, 1.4, 0.2],\n",
              "       [4.9, 3.1, 1.5, 0.1],\n",
              "       [5.4, 3.7, 1.5, 0.2],\n",
              "       [4.8, 3.4, 1.6, 0.2],\n",
              "       [4.8, 3. , 1.4, 0.1],\n",
              "       [4.3, 3. , 1.1, 0.1],\n",
              "       [5.8, 4. , 1.2, 0.2],\n",
              "       [5.7, 4.4, 1.5, 0.4],\n",
              "       [5.4, 3.9, 1.3, 0.4],\n",
              "       [5.1, 3.5, 1.4, 0.3],\n",
              "       [5.7, 3.8, 1.7, 0.3],\n",
              "       [5.1, 3.8, 1.5, 0.3],\n",
              "       [5.4, 3.4, 1.7, 0.2],\n",
              "       [5.1, 3.7, 1.5, 0.4],\n",
              "       [4.6, 3.6, 1. , 0.2],\n",
              "       [5.1, 3.3, 1.7, 0.5],\n",
              "       [4.8, 3.4, 1.9, 0.2],\n",
              "       [5. , 3.4, 1.6, 0.4],\n",
              "       [5.2, 3.5, 1.5, 0.2],\n",
              "       [5.2, 3.4, 1.4, 0.2],\n",
              "       [4.7, 3.2, 1.6, 0.2],\n",
              "       [4.8, 3.1, 1.6, 0.2],\n",
              "       [5.4, 3.4, 1.5, 0.4],\n",
              "       [5.2, 4.1, 1.5, 0.1],\n",
              "       [5.5, 4.2, 1.4, 0.2],\n",
              "       [4.9, 3.1, 1.5, 0.1],\n",
              "       [5. , 3.2, 1.2, 0.2],\n",
              "       [5.5, 3.5, 1.3, 0.2],\n",
              "       [4.9, 3.1, 1.5, 0.1],\n",
              "       [4.4, 3. , 1.3, 0.2],\n",
              "       [5. , 3.5, 1.3, 0.3],\n",
              "       [4.5, 2.3, 1.3, 0.3],\n",
              "       [4.4, 3.2, 1.3, 0.2],\n",
              "       [5. , 3.5, 1.6, 0.6],\n",
              "       [5.1, 3.8, 1.9, 0.4],\n",
              "       [4.8, 3. , 1.4, 0.3],\n",
              "       [5.1, 3.8, 1.6, 0.2],\n",
              "       [4.6, 3.2, 1.4, 0.2],\n",
              "       [5.3, 3.7, 1.5, 0.2],\n",
              "       [5. , 3.3, 1.4, 0.2],\n",
              "       [7. , 3.2, 4.7, 1.4],\n",
              "       [6.4, 3.2, 4.5, 1.5],\n",
              "       [5.5, 2.3, 4. , 1.3],\n",
              "       [6.5, 2.8, 4.6, 1.5],\n",
              "       [5.7, 2.8, 4.5, 1.3],\n",
              "       [6.3, 3.3, 4.7, 1.6],\n",
              "       [4.9, 2.4, 3.3, 1. ],\n",
              "       [6.6, 2.9, 4.6, 1.3],\n",
              "       [5.2, 2.7, 3.9, 1.4],\n",
              "       [5. , 2. , 3.5, 1. ],\n",
              "       [5.9, 3. , 4.2, 1.5],\n",
              "       [6. , 2.2, 4. , 1. ],\n",
              "       [6.1, 2.9, 4.7, 1.4],\n",
              "       [5.6, 2.9, 3.6, 1.3],\n",
              "       [6.7, 3.1, 4.4, 1.4],\n",
              "       [5.6, 3. , 4.5, 1.5],\n",
              "       [5.8, 2.7, 4.1, 1. ],\n",
              "       [6.2, 2.2, 4.5, 1.5],\n",
              "       [5.6, 2.5, 3.9, 1.1],\n",
              "       [5.9, 3.2, 4.8, 1.8],\n",
              "       [6.1, 2.8, 4. , 1.3],\n",
              "       [6.3, 2.5, 4.9, 1.5],\n",
              "       [6.1, 2.8, 4.7, 1.2],\n",
              "       [6.4, 2.9, 4.3, 1.3],\n",
              "       [6.6, 3. , 4.4, 1.4],\n",
              "       [6.8, 2.8, 4.8, 1.4],\n",
              "       [6.7, 3. , 5. , 1.7],\n",
              "       [6. , 2.9, 4.5, 1.5],\n",
              "       [5.7, 2.6, 3.5, 1. ],\n",
              "       [5.5, 2.4, 3.8, 1.1],\n",
              "       [5.5, 2.4, 3.7, 1. ],\n",
              "       [5.8, 2.7, 3.9, 1.2],\n",
              "       [6. , 2.7, 5.1, 1.6],\n",
              "       [5.4, 3. , 4.5, 1.5],\n",
              "       [6. , 3.4, 4.5, 1.6],\n",
              "       [6.7, 3.1, 4.7, 1.5],\n",
              "       [6.3, 2.3, 4.4, 1.3],\n",
              "       [5.6, 3. , 4.1, 1.3],\n",
              "       [5.5, 2.5, 4. , 1.3],\n",
              "       [5.5, 2.6, 4.4, 1.2],\n",
              "       [6.1, 3. , 4.6, 1.4],\n",
              "       [5.8, 2.6, 4. , 1.2],\n",
              "       [5. , 2.3, 3.3, 1. ],\n",
              "       [5.6, 2.7, 4.2, 1.3],\n",
              "       [5.7, 3. , 4.2, 1.2],\n",
              "       [5.7, 2.9, 4.2, 1.3],\n",
              "       [6.2, 2.9, 4.3, 1.3],\n",
              "       [5.1, 2.5, 3. , 1.1],\n",
              "       [5.7, 2.8, 4.1, 1.3],\n",
              "       [5.8, 2.7, 5.1, 1.9],\n",
              "       [7.1, 3. , 5.9, 2.1],\n",
              "       [6.3, 2.9, 5.6, 1.8],\n",
              "       [6.5, 3. , 5.8, 2.2],\n",
              "       [7.6, 3. , 6.6, 2.1],\n",
              "       [7.3, 2.9, 6.3, 1.8],\n",
              "       [6.7, 2.5, 5.8, 1.8],\n",
              "       [7.2, 3.6, 6.1, 2.5],\n",
              "       [6.5, 3.2, 5.1, 2. ],\n",
              "       [6.4, 2.7, 5.3, 1.9],\n",
              "       [6.8, 3. , 5.5, 2.1],\n",
              "       [5.7, 2.5, 5. , 2. ],\n",
              "       [5.8, 2.8, 5.1, 2.4],\n",
              "       [6.4, 3.2, 5.3, 2.3],\n",
              "       [6.5, 3. , 5.5, 1.8],\n",
              "       [7.7, 3.8, 6.7, 2.2],\n",
              "       [7.7, 2.6, 6.9, 2.3],\n",
              "       [6. , 2.2, 5. , 1.5],\n",
              "       [6.9, 3.2, 5.7, 2.3],\n",
              "       [5.6, 2.8, 4.9, 2. ],\n",
              "       [7.7, 2.8, 6.7, 2. ],\n",
              "       [6.3, 2.7, 4.9, 1.8],\n",
              "       [6.7, 3.3, 5.7, 2.1],\n",
              "       [7.2, 3.2, 6. , 1.8],\n",
              "       [6.1, 3. , 4.9, 1.8],\n",
              "       [6.4, 2.8, 5.6, 2.1],\n",
              "       [7.2, 3. , 5.8, 1.6],\n",
              "       [7.4, 2.8, 6.1, 1.9],\n",
              "       [7.9, 3.8, 6.4, 2. ],\n",
              "       [6.4, 2.8, 5.6, 2.2],\n",
              "       [6.3, 2.8, 5.1, 1.5],\n",
              "       [6.1, 2.6, 5.6, 1.4],\n",
              "       [7.7, 3. , 6.1, 2.3],\n",
              "       [6.3, 3.4, 5.6, 2.4],\n",
              "       [6.4, 3.1, 5.5, 1.8],\n",
              "       [6. , 3. , 4.8, 1.8],\n",
              "       [6.9, 3.1, 5.4, 2.1],\n",
              "       [6.7, 3.1, 5.6, 2.4],\n",
              "       [6.9, 3.1, 5.1, 2.3],\n",
              "       [5.8, 2.7, 5.1, 1.9],\n",
              "       [6.8, 3.2, 5.9, 2.3],\n",
              "       [6.7, 3.3, 5.7, 2.5],\n",
              "       [6.7, 3. , 5.2, 2.3],\n",
              "       [6.3, 2.5, 5. , 1.9],\n",
              "       [6.5, 3. , 5.2, 2. ],\n",
              "       [6.2, 3.4, 5.4, 2.3],\n",
              "       [5.9, 3. , 5.1, 1.8]])"
            ]
          },
          "metadata": {},
          "execution_count": 4
        }
      ]
    },
    {
      "cell_type": "code",
      "source": [
        "columnstarget = [\"Species\"]\n",
        "target = pd.read_csv(\"./Iris.csv\", usecols=columnstarget)\n",
        "tar = target.to_numpy()\n",
        "tar = np.delete(tar, 25, axis=0)\n",
        "tar = np.delete(tar, 38, axis=0)\n",
        "tar = np.delete(tar, 98, axis=0)\n",
        "tar = np.delete(tar, 50, axis=0)\n",
        "tar = np.delete(tar, 102, axis=0)\n",
        "tar = np.delete(tar, 121, axis=0)\n",
        "tar"
      ],
      "metadata": {
        "colab": {
          "base_uri": "https://localhost:8080/"
        },
        "id": "JqIpY2lReyd1",
        "outputId": "bec7ccec-8a61-4d00-cef6-6171ab2462ca"
      },
      "execution_count": 5,
      "outputs": [
        {
          "output_type": "execute_result",
          "data": {
            "text/plain": [
              "array([['Iris-setosa'],\n",
              "       ['Iris-setosa'],\n",
              "       ['Iris-setosa'],\n",
              "       ['Iris-setosa'],\n",
              "       ['Iris-setosa'],\n",
              "       ['Iris-setosa'],\n",
              "       ['Iris-setosa'],\n",
              "       ['Iris-setosa'],\n",
              "       ['Iris-setosa'],\n",
              "       ['Iris-setosa'],\n",
              "       ['Iris-setosa'],\n",
              "       ['Iris-setosa'],\n",
              "       ['Iris-setosa'],\n",
              "       ['Iris-setosa'],\n",
              "       ['Iris-setosa'],\n",
              "       ['Iris-setosa'],\n",
              "       ['Iris-setosa'],\n",
              "       ['Iris-setosa'],\n",
              "       ['Iris-setosa'],\n",
              "       ['Iris-setosa'],\n",
              "       ['Iris-setosa'],\n",
              "       ['Iris-setosa'],\n",
              "       ['Iris-setosa'],\n",
              "       ['Iris-setosa'],\n",
              "       ['Iris-setosa'],\n",
              "       ['Iris-setosa'],\n",
              "       ['Iris-setosa'],\n",
              "       ['Iris-setosa'],\n",
              "       ['Iris-setosa'],\n",
              "       ['Iris-setosa'],\n",
              "       ['Iris-setosa'],\n",
              "       ['Iris-setosa'],\n",
              "       ['Iris-setosa'],\n",
              "       ['Iris-setosa'],\n",
              "       ['Iris-setosa'],\n",
              "       ['Iris-setosa'],\n",
              "       ['Iris-setosa'],\n",
              "       ['Iris-setosa'],\n",
              "       ['Iris-setosa'],\n",
              "       ['Iris-setosa'],\n",
              "       ['Iris-setosa'],\n",
              "       ['Iris-setosa'],\n",
              "       ['Iris-setosa'],\n",
              "       ['Iris-setosa'],\n",
              "       ['Iris-setosa'],\n",
              "       ['Iris-setosa'],\n",
              "       ['Iris-setosa'],\n",
              "       ['Iris-setosa'],\n",
              "       ['Iris-versicolor'],\n",
              "       ['Iris-versicolor'],\n",
              "       ['Iris-versicolor'],\n",
              "       ['Iris-versicolor'],\n",
              "       ['Iris-versicolor'],\n",
              "       ['Iris-versicolor'],\n",
              "       ['Iris-versicolor'],\n",
              "       ['Iris-versicolor'],\n",
              "       ['Iris-versicolor'],\n",
              "       ['Iris-versicolor'],\n",
              "       ['Iris-versicolor'],\n",
              "       ['Iris-versicolor'],\n",
              "       ['Iris-versicolor'],\n",
              "       ['Iris-versicolor'],\n",
              "       ['Iris-versicolor'],\n",
              "       ['Iris-versicolor'],\n",
              "       ['Iris-versicolor'],\n",
              "       ['Iris-versicolor'],\n",
              "       ['Iris-versicolor'],\n",
              "       ['Iris-versicolor'],\n",
              "       ['Iris-versicolor'],\n",
              "       ['Iris-versicolor'],\n",
              "       ['Iris-versicolor'],\n",
              "       ['Iris-versicolor'],\n",
              "       ['Iris-versicolor'],\n",
              "       ['Iris-versicolor'],\n",
              "       ['Iris-versicolor'],\n",
              "       ['Iris-versicolor'],\n",
              "       ['Iris-versicolor'],\n",
              "       ['Iris-versicolor'],\n",
              "       ['Iris-versicolor'],\n",
              "       ['Iris-versicolor'],\n",
              "       ['Iris-versicolor'],\n",
              "       ['Iris-versicolor'],\n",
              "       ['Iris-versicolor'],\n",
              "       ['Iris-versicolor'],\n",
              "       ['Iris-versicolor'],\n",
              "       ['Iris-versicolor'],\n",
              "       ['Iris-versicolor'],\n",
              "       ['Iris-versicolor'],\n",
              "       ['Iris-versicolor'],\n",
              "       ['Iris-versicolor'],\n",
              "       ['Iris-versicolor'],\n",
              "       ['Iris-versicolor'],\n",
              "       ['Iris-versicolor'],\n",
              "       ['Iris-versicolor'],\n",
              "       ['Iris-versicolor'],\n",
              "       ['Iris-versicolor'],\n",
              "       ['Iris-versicolor'],\n",
              "       ['Iris-virginica'],\n",
              "       ['Iris-virginica'],\n",
              "       ['Iris-virginica'],\n",
              "       ['Iris-virginica'],\n",
              "       ['Iris-virginica'],\n",
              "       ['Iris-virginica'],\n",
              "       ['Iris-virginica'],\n",
              "       ['Iris-virginica'],\n",
              "       ['Iris-virginica'],\n",
              "       ['Iris-virginica'],\n",
              "       ['Iris-virginica'],\n",
              "       ['Iris-virginica'],\n",
              "       ['Iris-virginica'],\n",
              "       ['Iris-virginica'],\n",
              "       ['Iris-virginica'],\n",
              "       ['Iris-virginica'],\n",
              "       ['Iris-virginica'],\n",
              "       ['Iris-virginica'],\n",
              "       ['Iris-virginica'],\n",
              "       ['Iris-virginica'],\n",
              "       ['Iris-virginica'],\n",
              "       ['Iris-virginica'],\n",
              "       ['Iris-virginica'],\n",
              "       ['Iris-virginica'],\n",
              "       ['Iris-virginica'],\n",
              "       ['Iris-virginica'],\n",
              "       ['Iris-virginica'],\n",
              "       ['Iris-virginica'],\n",
              "       ['Iris-virginica'],\n",
              "       ['Iris-virginica'],\n",
              "       ['Iris-virginica'],\n",
              "       ['Iris-virginica'],\n",
              "       ['Iris-virginica'],\n",
              "       ['Iris-virginica'],\n",
              "       ['Iris-virginica'],\n",
              "       ['Iris-virginica'],\n",
              "       ['Iris-virginica'],\n",
              "       ['Iris-virginica'],\n",
              "       ['Iris-virginica'],\n",
              "       ['Iris-virginica'],\n",
              "       ['Iris-virginica'],\n",
              "       ['Iris-virginica'],\n",
              "       ['Iris-virginica'],\n",
              "       ['Iris-virginica'],\n",
              "       ['Iris-virginica'],\n",
              "       ['Iris-virginica'],\n",
              "       ['Iris-virginica']], dtype=object)"
            ]
          },
          "metadata": {},
          "execution_count": 5
        }
      ]
    },
    {
      "cell_type": "markdown",
      "source": [
        "# Classification of the data"
      ],
      "metadata": {
        "id": "CXzMOnzcLYQf"
      }
    },
    {
      "cell_type": "code",
      "source": [
        "weight = lvq_fit(tra, tar, learn_rate=.001, b=.5, max_epoch=100)\n",
        "\n",
        "output1 = lvq_predict([5.0,3.0,1.6,0.2], weight)\n",
        "output2 = lvq_predict([4.4,3.2,1.3,0.2], weight)\n",
        "output3 = lvq_predict([5.1,2.5,3.0,1.1], weight)\n",
        "output4 = lvq_predict([7.0,3.2,4.7,1.4], weight)\n",
        "output5 = lvq_predict([7.1,3.0,5.9,2.1], weight)\n",
        "output6 = lvq_predict([5.6,2.8,4.9,2.0], weight)\n",
        "\n",
        "# 26 - 5.0,3.0,1.6,0.2,Iris-setosa\n",
        "# 39 - 4.4,3.2,1.3,0.2,Iris-setosa\n",
        "# 99 - 5.1,2.5,3.0,1.1,Iris-versicolor\n",
        "# 51 - 7.0,3.2,4.7,1.4,Iris-versicolor\n",
        "# 103 - 7.1,3.0,5.9,2.1,Iris-virginica\n",
        "# 122 - 5.6,2.8,4.9,2.0,Iris-virginica\n",
        "\n",
        "print(output1)\n",
        "print(output2)\n",
        "print(output3)\n",
        "print(output4)\n",
        "print(output5)\n",
        "print(output6)"
      ],
      "metadata": {
        "id": "hB2Ademv8h4A",
        "colab": {
          "base_uri": "https://localhost:8080/"
        },
        "outputId": "56900bd7-11f7-4168-acb8-c46f8e33146d"
      },
      "execution_count": 17,
      "outputs": [
        {
          "output_type": "stream",
          "name": "stderr",
          "text": [
            "/usr/local/lib/python3.7/dist-packages/ipykernel_launcher.py:4: VisibleDeprecationWarning: Creating an ndarray from ragged nested sequences (which is a list-or-tuple of lists-or-tuples-or ndarrays with different lengths or shapes) is deprecated. If you meant to do this, you must specify 'dtype=object' when creating the ndarray.\n",
            "  after removing the cwd from sys.path.\n"
          ]
        },
        {
          "output_type": "stream",
          "name": "stdout",
          "text": [
            "Iris-setosa\n",
            "Iris-setosa\n",
            "Iris-setosa\n",
            "Iris-versicolor\n",
            "Iris-versicolor\n",
            "Iris-virginica\n"
          ]
        }
      ]
    }
  ]
}